{
 "cells": [
  {
   "cell_type": "markdown",
   "metadata": {},
   "source": [
    "### **Basic Array Operations**"
   ]
  },
  {
   "cell_type": "code",
   "execution_count": 1,
   "metadata": {},
   "outputs": [
    {
     "name": "stdout",
     "output_type": "stream",
     "text": [
      "arr1 is 1 D array\n",
      "arr2 is 2 D array\n",
      "size of element of arr1 is 8 bytes\n",
      "datatype of arr1 is int64\n",
      "size of arr2 is 6\n"
     ]
    }
   ],
   "source": [
    "import numpy as np\n",
    "arr1 =  np.array([5,6,7]) # 1-D array\n",
    "print(\"arr1 is\",arr1.ndim,\"D array\")\n",
    "\n",
    "arr2 = np.array([[1,2],[3,4],[5,6]]) # 2-D array\n",
    "print(\"arr2 is\",arr2.ndim,\"D array\")\n",
    "\n",
    "print(\"size of element of arr1 is\",arr1.itemsize,\"bytes\")\n",
    "print(\"datatype of arr1 is\",arr1.dtype)\n",
    "print(\"size of arr2 is\",arr2.size)"
   ]
  },
  {
   "cell_type": "code",
   "execution_count": 2,
   "metadata": {},
   "outputs": [
    {
     "name": "stdout",
     "output_type": "stream",
     "text": [
      "size of element of arr3 is 8 bytes\n",
      "datatype of arr3 is float64\n",
      "dimensions of arr3 are (3, 2)\n",
      "[[1.+0.j 2.+0.j]\n",
      " [3.+0.j 4.+0.j]\n",
      " [5.+0.j 6.+0.j]]\n"
     ]
    }
   ],
   "source": [
    "arr3 = np.array([[1,2],[3,4],[5,6]], dtype=np.float64)\n",
    "print(\"size of element of arr3 is\",arr3.itemsize,\"bytes\")\n",
    "print(\"datatype of arr3 is\",arr3.dtype)\n",
    "print(\"dimensions of arr3 are\",arr3.shape)\n",
    "\n",
    "arr4 = np.array([[1,2],[3,4],[5,6]], dtype=complex)\n",
    "print(arr4)"
   ]
  },
  {
   "cell_type": "code",
   "execution_count": 3,
   "metadata": {},
   "outputs": [
    {
     "name": "stdout",
     "output_type": "stream",
     "text": [
      "[[0. 0. 0. 0. 0.]\n",
      " [0. 0. 0. 0. 0.]\n",
      " [0. 0. 0. 0. 0.]]\n",
      "[[1. 1.]\n",
      " [1. 1.]\n",
      " [1. 1.]]\n"
     ]
    }
   ],
   "source": [
    "arr5 = np.zeros((3,5)) # array initialized with zeroes with specific shape/dimensions\n",
    "print(arr5)\n",
    "arr6 = np.ones((3,2)) # array initialized with ones with specific shape/dimensions\n",
    "print(arr6)"
   ]
  },
  {
   "cell_type": "code",
   "execution_count": 4,
   "metadata": {},
   "outputs": [
    {
     "name": "stdout",
     "output_type": "stream",
     "text": [
      "[1 3 5 7 9]\n",
      "[1.         1.44444444 1.88888889 2.33333333 2.77777778 3.22222222\n",
      " 3.66666667 4.11111111 4.55555556 5.        ]\n"
     ]
    }
   ],
   "source": [
    "arr7 = np.arange(1,10,2) #(start,stop,step) # here, 10 is not included\n",
    "print(arr7)\n",
    "\n",
    "arr8 = np.linspace(1,5,10) # generates 10 linearly spaced numbers b/w 1 and 5\\\n",
    "print(arr8)"
   ]
  },
  {
   "cell_type": "code",
   "execution_count": 5,
   "metadata": {},
   "outputs": [
    {
     "name": "stdout",
     "output_type": "stream",
     "text": [
      "[[1 2]\n",
      " [3 4]\n",
      " [5 6]]\n",
      "[[1 2 3]\n",
      " [4 5 6]]\n",
      "[1 2 3 4 5 6]\n"
     ]
    }
   ],
   "source": [
    "print(arr2)\n",
    "print(arr2.reshape(2,3))\n",
    "\n",
    "print(arr2.ravel()) # to flaten the multidimensional array"
   ]
  },
  {
   "cell_type": "code",
   "execution_count": 6,
   "metadata": {},
   "outputs": [
    {
     "name": "stdout",
     "output_type": "stream",
     "text": [
      "5\n",
      "7\n",
      "18\n",
      "[ 9 12]\n",
      "[ 3  7 11]\n",
      "[[1.         1.41421356]\n",
      " [1.73205081 2.        ]\n",
      " [2.23606798 2.44948974]]\n",
      "1.707825127659933\n"
     ]
    }
   ],
   "source": [
    "print(arr1.min())\n",
    "print(arr1.max())\n",
    "print(arr1.sum())\n",
    "\n",
    "# axis 0 is column-wise and axis 1 is row-wise\n",
    "print(arr2.sum(axis=0))\n",
    "print(arr2.sum(axis=1))\n",
    "\n",
    "print(np.sqrt(arr2)) # square root\n",
    "print(np.std(arr2)) # standard deviation"
   ]
  },
  {
   "cell_type": "code",
   "execution_count": 7,
   "metadata": {},
   "outputs": [
    {
     "name": "stdout",
     "output_type": "stream",
     "text": [
      "[[5 7]\n",
      " [9 7]]\n",
      "[[-3 -3]\n",
      " [-3 -3]]\n",
      "[[ 4 10]\n",
      " [18 10]]\n",
      "[[0.25 0.4 ]\n",
      " [0.5  0.4 ]]\n",
      "[[16 15]\n",
      " [24 25]]\n"
     ]
    }
   ],
   "source": [
    "a1 = np.array([[1,2],[3,2]])\n",
    "a2 = np.array([[4,5],[6,5]])\n",
    "print(a1+a2)\n",
    "print(a1-a2)\n",
    "print(a1*a2)\n",
    "print(a1/a2)\n",
    "print(a1.dot(a2))"
   ]
  }
 ],
 "metadata": {
  "kernelspec": {
   "display_name": "Python 3",
   "language": "python",
   "name": "python3"
  },
  "language_info": {
   "codemirror_mode": {
    "name": "ipython",
    "version": 3
   },
   "file_extension": ".py",
   "mimetype": "text/x-python",
   "name": "python",
   "nbconvert_exporter": "python",
   "pygments_lexer": "ipython3",
   "version": "3.12.2"
  }
 },
 "nbformat": 4,
 "nbformat_minor": 2
}
